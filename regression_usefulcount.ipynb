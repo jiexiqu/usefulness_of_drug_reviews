{
 "cells": [
  {
   "cell_type": "code",
   "execution_count": 225,
   "metadata": {},
   "outputs": [],
   "source": [
    "import pandas as pd\n",
    "import numpy as np\n",
    "import matplotlib.pyplot as plt\n",
    "import seaborn as sns\n",
    "\n",
    "import src.helper as dp"
   ]
  },
  {
   "cell_type": "code",
   "execution_count": 2,
   "metadata": {},
   "outputs": [],
   "source": [
    "%load_ext autoreload\n",
    "%autoreload 2"
   ]
  },
  {
   "cell_type": "code",
   "execution_count": 227,
   "metadata": {},
   "outputs": [],
   "source": [
    "data = pd.read_csv('data/drugsComTrain_raw.tsv', sep='\\t')"
   ]
  },
  {
   "cell_type": "code",
   "execution_count": 4,
   "metadata": {},
   "outputs": [
    {
     "data": {
      "text/plain": [
       "Unnamed: 0       0\n",
       "drugName         0\n",
       "condition      899\n",
       "review           0\n",
       "rating           0\n",
       "date             0\n",
       "usefulCount      0\n",
       "dtype: int64"
      ]
     },
     "execution_count": 4,
     "metadata": {},
     "output_type": "execute_result"
    }
   ],
   "source": [
    "data.isnull().sum()"
   ]
  },
  {
   "cell_type": "code",
   "execution_count": 157,
   "metadata": {},
   "outputs": [],
   "source": [
    "# drop rows with na for condition & rows with '</span> for condition' because only 0.5% of dataset is missing \n",
    "data = dp.drop_na(data)"
   ]
  },
  {
   "cell_type": "code",
   "execution_count": 6,
   "metadata": {},
   "outputs": [
    {
     "name": "stdout",
     "output_type": "stream",
     "text": [
      "<class 'pandas.core.frame.DataFrame'>\n",
      "Int64Index: 159498 entries, 0 to 161296\n",
      "Data columns (total 7 columns):\n",
      "Unnamed: 0     159498 non-null int64\n",
      "drugName       159498 non-null object\n",
      "condition      159498 non-null object\n",
      "review         159498 non-null object\n",
      "rating         159498 non-null float64\n",
      "date           159498 non-null object\n",
      "usefulCount    159498 non-null int64\n",
      "dtypes: float64(1), int64(2), object(4)\n",
      "memory usage: 9.7+ MB\n"
     ]
    }
   ],
   "source": [
    "data.info()"
   ]
  },
  {
   "cell_type": "markdown",
   "metadata": {},
   "source": [
    "## Using PorterStemmer"
   ]
  },
  {
   "cell_type": "code",
   "execution_count": 159,
   "metadata": {},
   "outputs": [],
   "source": [
    "# lowercase, stemming(porter), remove stopwrods, remove numbers & punctuation \n",
    "# added features: review length, sentiment score(using vader), get_dummy condition\n",
    "data = dp.features_regression(data)"
   ]
  },
  {
   "cell_type": "code",
   "execution_count": 160,
   "metadata": {},
   "outputs": [
    {
     "data": {
      "text/html": [
       "<div>\n",
       "<style scoped>\n",
       "    .dataframe tbody tr th:only-of-type {\n",
       "        vertical-align: middle;\n",
       "    }\n",
       "\n",
       "    .dataframe tbody tr th {\n",
       "        vertical-align: top;\n",
       "    }\n",
       "\n",
       "    .dataframe thead th {\n",
       "        text-align: right;\n",
       "    }\n",
       "</style>\n",
       "<table border=\"1\" class=\"dataframe\">\n",
       "  <thead>\n",
       "    <tr style=\"text-align: right;\">\n",
       "      <th></th>\n",
       "      <th>rating</th>\n",
       "      <th>usefulCount</th>\n",
       "      <th>review_clean</th>\n",
       "      <th>review_len</th>\n",
       "      <th>count_unique_word</th>\n",
       "      <th>compound</th>\n",
       "    </tr>\n",
       "  </thead>\n",
       "  <tbody>\n",
       "    <tr>\n",
       "      <th>0</th>\n",
       "      <td>9.0</td>\n",
       "      <td>27</td>\n",
       "      <td>no side effect take combin bystol mg fish oil</td>\n",
       "      <td>17</td>\n",
       "      <td>9</td>\n",
       "      <td>-0.2960</td>\n",
       "    </tr>\n",
       "    <tr>\n",
       "      <th>1</th>\n",
       "      <td>8.0</td>\n",
       "      <td>192</td>\n",
       "      <td>son halfway fourth week intuniv becam concern ...</td>\n",
       "      <td>141</td>\n",
       "      <td>54</td>\n",
       "      <td>0.8603</td>\n",
       "    </tr>\n",
       "    <tr>\n",
       "      <th>2</th>\n",
       "      <td>5.0</td>\n",
       "      <td>17</td>\n",
       "      <td>use take anoth oral contracept pill cycl happi...</td>\n",
       "      <td>133</td>\n",
       "      <td>50</td>\n",
       "      <td>0.7645</td>\n",
       "    </tr>\n",
       "    <tr>\n",
       "      <th>3</th>\n",
       "      <td>8.0</td>\n",
       "      <td>10</td>\n",
       "      <td>first time use form birth control glad went pa...</td>\n",
       "      <td>89</td>\n",
       "      <td>26</td>\n",
       "      <td>0.7184</td>\n",
       "    </tr>\n",
       "    <tr>\n",
       "      <th>4</th>\n",
       "      <td>9.0</td>\n",
       "      <td>37</td>\n",
       "      <td>suboxon complet turn life around feel healthie...</td>\n",
       "      <td>134</td>\n",
       "      <td>51</td>\n",
       "      <td>0.9403</td>\n",
       "    </tr>\n",
       "  </tbody>\n",
       "</table>\n",
       "</div>"
      ],
      "text/plain": [
       "   rating  usefulCount                                       review_clean  \\\n",
       "0     9.0           27      no side effect take combin bystol mg fish oil   \n",
       "1     8.0          192  son halfway fourth week intuniv becam concern ...   \n",
       "2     5.0           17  use take anoth oral contracept pill cycl happi...   \n",
       "3     8.0           10  first time use form birth control glad went pa...   \n",
       "4     9.0           37  suboxon complet turn life around feel healthie...   \n",
       "\n",
       "   review_len  count_unique_word  compound  \n",
       "0          17                  9   -0.2960  \n",
       "1         141                 54    0.8603  \n",
       "2         133                 50    0.7645  \n",
       "3          89                 26    0.7184  \n",
       "4         134                 51    0.9403  "
      ]
     },
     "execution_count": 160,
     "metadata": {},
     "output_type": "execute_result"
    }
   ],
   "source": [
    "data.head()"
   ]
  },
  {
   "cell_type": "code",
   "execution_count": 161,
   "metadata": {},
   "outputs": [],
   "source": [
    "X_train, X_test, y_train, y_test = dp.split(data)"
   ]
  },
  {
   "cell_type": "markdown",
   "metadata": {},
   "source": [
    "### Dumb Model Using Average"
   ]
  },
  {
   "cell_type": "code",
   "execution_count": 12,
   "metadata": {},
   "outputs": [
    {
     "data": {
      "text/plain": [
       "36.52909815255881"
      ]
     },
     "execution_count": 12,
     "metadata": {},
     "output_type": "execute_result"
    }
   ],
   "source": [
    "from sklearn.metrics import mean_squared_error\n",
    "\n",
    "average = np.mean(y_train)\n",
    "y_preds_d = np.full(y_test.shape, average)\n",
    "rmse = np.sqrt(mean_squared_error(y_test, y_preds_d))\n",
    "rmse"
   ]
  },
  {
   "cell_type": "markdown",
   "metadata": {},
   "source": [
    "### Using Other Regression Models"
   ]
  },
  {
   "cell_type": "markdown",
   "metadata": {},
   "source": [
    "*** tfidf with 10,000 max features ***"
   ]
  },
  {
   "cell_type": "code",
   "execution_count": 162,
   "metadata": {},
   "outputs": [],
   "source": [
    "# tfidfvecotrizer with 10,000 max features\n",
    "X_train_tfidf1, X_test_tfidf1 = dp.tfidf_vect(X_train, X_test, max_features=10000)"
   ]
  },
  {
   "cell_type": "code",
   "execution_count": 14,
   "metadata": {},
   "outputs": [],
   "source": [
    "from scipy.sparse import hstack\n",
    "from scipy.sparse import coo_matrix"
   ]
  },
  {
   "cell_type": "code",
   "execution_count": 163,
   "metadata": {},
   "outputs": [],
   "source": [
    "# drop 'review_clean' column since it is vectorized\n",
    "X_train_f1 = X_train.drop(columns=['review_clean'])\n",
    "X_test_f1 = X_test.drop(columns=['review_clean'])"
   ]
  },
  {
   "cell_type": "code",
   "execution_count": 164,
   "metadata": {},
   "outputs": [],
   "source": [
    "# adding other features to sparce matrix\n",
    "X_train_f1 = hstack([X_train_tfidf1, coo_matrix(X_train_f1.iloc[:,:])])\n",
    "X_test_f1 = hstack([X_test_tfidf1, coo_matrix(X_test_f1.iloc[:,:])])"
   ]
  },
  {
   "cell_type": "code",
   "execution_count": 223,
   "metadata": {},
   "outputs": [],
   "source": [
    "from sklearn.linear_model import LinearRegression\n",
    "from sklearn.tree import DecisionTreeRegressor\n",
    "from sklearn.ensemble import RandomForestRegressor, GradientBoostingRegressor\n",
    "from xgboost import XGBRegressor\n",
    "import src.rmse_calc as m"
   ]
  },
  {
   "cell_type": "code",
   "execution_count": 166,
   "metadata": {},
   "outputs": [
    {
     "data": {
      "text/plain": [
       "31.7359785224869"
      ]
     },
     "execution_count": 166,
     "metadata": {},
     "output_type": "execute_result"
    }
   ],
   "source": [
    "# linear regression\n",
    "lr = LinearRegression()\n",
    "y_pred_lr, rmse_lr = m.model_result(lr, X_train_f1, X_test_f1, y_train, y_test)\n",
    "rmse_lr"
   ]
  },
  {
   "cell_type": "code",
   "execution_count": 167,
   "metadata": {},
   "outputs": [
    {
     "data": {
      "text/plain": [
       "31.775425071640996"
      ]
     },
     "execution_count": 167,
     "metadata": {},
     "output_type": "execute_result"
    }
   ],
   "source": [
    "# decision tree\n",
    "dtr = DecisionTreeRegressor()\n",
    "y_pred_dtr, rmse_dtr = m.model_result(dtr, X_train_f1, X_test_f1, y_train, y_test)\n",
    "rmse_dtr"
   ]
  },
  {
   "cell_type": "code",
   "execution_count": 168,
   "metadata": {},
   "outputs": [
    {
     "data": {
      "text/plain": [
       "31.503688943896446"
      ]
     },
     "execution_count": 168,
     "metadata": {},
     "output_type": "execute_result"
    }
   ],
   "source": [
    "# gradient boosting\n",
    "gbr = GradientBoostingRegressor()\n",
    "y_pred_gbr, rmse_gbr = m.model_result(gbr, X_train_f1, X_test_f1, y_train, y_test)\n",
    "rmse_gbr"
   ]
  },
  {
   "cell_type": "code",
   "execution_count": 169,
   "metadata": {},
   "outputs": [
    {
     "data": {
      "text/plain": [
       "28.950845631032966"
      ]
     },
     "execution_count": 169,
     "metadata": {},
     "output_type": "execute_result"
    }
   ],
   "source": [
    "# xgboost\n",
    "xgbr = XGBRegressor()\n",
    "y_pred_xgbr, rmse_xgbr = m.model_result(xgbr, X_train_f1, X_test_f1, y_train, y_test)\n",
    "rmse_xgbr"
   ]
  },
  {
   "cell_type": "code",
   "execution_count": 265,
   "metadata": {},
   "outputs": [
    {
     "ename": "ValueError",
     "evalue": "operands could not be broadcast together with shapes (31900,) (53200,) ",
     "output_type": "error",
     "traceback": [
      "\u001b[0;31m---------------------------------------------------------------------------\u001b[0m",
      "\u001b[0;31mValueError\u001b[0m                                Traceback (most recent call last)",
      "\u001b[0;32m<ipython-input-265-27f4943c6f26>\u001b[0m in \u001b[0;36m<module>\u001b[0;34m()\u001b[0m\n\u001b[0;32m----> 1\u001b[0;31m \u001b[0mresids\u001b[0m \u001b[0;34m=\u001b[0m \u001b[0my_pred_xgbr\u001b[0m\u001b[0;34m-\u001b[0m\u001b[0my_test\u001b[0m\u001b[0;34m\u001b[0m\u001b[0;34m\u001b[0m\u001b[0m\n\u001b[0m\u001b[1;32m      2\u001b[0m \u001b[0mplt\u001b[0m\u001b[0;34m.\u001b[0m\u001b[0mscatter\u001b[0m\u001b[0;34m(\u001b[0m\u001b[0mnp\u001b[0m\u001b[0;34m.\u001b[0m\u001b[0marange\u001b[0m\u001b[0;34m(\u001b[0m\u001b[0mlen\u001b[0m\u001b[0;34m(\u001b[0m\u001b[0mresids\u001b[0m\u001b[0;34m)\u001b[0m\u001b[0;34m)\u001b[0m\u001b[0;34m,\u001b[0m \u001b[0mresids\u001b[0m\u001b[0;34m)\u001b[0m\u001b[0;34m\u001b[0m\u001b[0;34m\u001b[0m\u001b[0m\n\u001b[1;32m      3\u001b[0m \u001b[0mplt\u001b[0m\u001b[0;34m.\u001b[0m\u001b[0mtitle\u001b[0m\u001b[0;34m(\u001b[0m\u001b[0;34m'Predictions Using XGBRegressor vs. y_test Residuals'\u001b[0m\u001b[0;34m)\u001b[0m\u001b[0;34m\u001b[0m\u001b[0;34m\u001b[0m\u001b[0m\n",
      "\u001b[0;31mValueError\u001b[0m: operands could not be broadcast together with shapes (31900,) (53200,) "
     ]
    }
   ],
   "source": [
    "resids = y_pred_xgbr-y_test\n",
    "plt.scatter(np.arange(len(resids)), resids)\n",
    "plt.title('Predictions Using XGBRegressor vs. y_test Residuals')\n"
   ]
  },
  {
   "cell_type": "markdown",
   "metadata": {},
   "source": [
    "*** trying out 20,000, 30,000, 40,000, 50,000 tfidf max features ***\n"
   ]
  },
  {
   "cell_type": "code",
   "execution_count": 170,
   "metadata": {},
   "outputs": [],
   "source": [
    "X_train_tfidf2, X_test_tfidf2 = dp.tfidf_vect(X_train, X_test, max_features=20000)\n",
    "X_train_tfidf3, X_test_tfidf3 = dp.tfidf_vect(X_train, X_test, max_features=30000)\n",
    "X_train_tfidf4, X_test_tfidf4 = dp.tfidf_vect(X_train, X_test, max_features=40000)\n",
    "X_train_tfidf5, X_test_tfidf5 = dp.tfidf_vect(X_train, X_test, max_features=50000)"
   ]
  },
  {
   "cell_type": "code",
   "execution_count": 171,
   "metadata": {},
   "outputs": [],
   "source": [
    "# drop 'review_clean' column since it is vectorized\n",
    "X_train_dropreview = X_train.drop(columns=['review_clean'])\n",
    "X_test_dropreview = X_test.drop(columns=['review_clean'])"
   ]
  },
  {
   "cell_type": "code",
   "execution_count": 172,
   "metadata": {},
   "outputs": [
    {
     "data": {
      "text/html": [
       "<div>\n",
       "<style scoped>\n",
       "    .dataframe tbody tr th:only-of-type {\n",
       "        vertical-align: middle;\n",
       "    }\n",
       "\n",
       "    .dataframe tbody tr th {\n",
       "        vertical-align: top;\n",
       "    }\n",
       "\n",
       "    .dataframe thead th {\n",
       "        text-align: right;\n",
       "    }\n",
       "</style>\n",
       "<table border=\"1\" class=\"dataframe\">\n",
       "  <thead>\n",
       "    <tr style=\"text-align: right;\">\n",
       "      <th></th>\n",
       "      <th>rating</th>\n",
       "      <th>review_len</th>\n",
       "      <th>count_unique_word</th>\n",
       "      <th>compound</th>\n",
       "    </tr>\n",
       "  </thead>\n",
       "  <tbody>\n",
       "    <tr>\n",
       "      <th>160029</th>\n",
       "      <td>7.0</td>\n",
       "      <td>61</td>\n",
       "      <td>21</td>\n",
       "      <td>0.8243</td>\n",
       "    </tr>\n",
       "    <tr>\n",
       "      <th>119242</th>\n",
       "      <td>10.0</td>\n",
       "      <td>106</td>\n",
       "      <td>42</td>\n",
       "      <td>-0.3400</td>\n",
       "    </tr>\n",
       "    <tr>\n",
       "      <th>101809</th>\n",
       "      <td>9.0</td>\n",
       "      <td>38</td>\n",
       "      <td>18</td>\n",
       "      <td>-0.7964</td>\n",
       "    </tr>\n",
       "    <tr>\n",
       "      <th>59952</th>\n",
       "      <td>1.0</td>\n",
       "      <td>27</td>\n",
       "      <td>11</td>\n",
       "      <td>-0.3089</td>\n",
       "    </tr>\n",
       "    <tr>\n",
       "      <th>59446</th>\n",
       "      <td>8.0</td>\n",
       "      <td>140</td>\n",
       "      <td>58</td>\n",
       "      <td>0.7939</td>\n",
       "    </tr>\n",
       "  </tbody>\n",
       "</table>\n",
       "</div>"
      ],
      "text/plain": [
       "        rating  review_len  count_unique_word  compound\n",
       "160029     7.0          61                 21    0.8243\n",
       "119242    10.0         106                 42   -0.3400\n",
       "101809     9.0          38                 18   -0.7964\n",
       "59952      1.0          27                 11   -0.3089\n",
       "59446      8.0         140                 58    0.7939"
      ]
     },
     "execution_count": 172,
     "metadata": {},
     "output_type": "execute_result"
    }
   ],
   "source": [
    "X_train_dropreview.head()"
   ]
  },
  {
   "cell_type": "code",
   "execution_count": 173,
   "metadata": {},
   "outputs": [],
   "source": [
    "# adding other features to sparce matrix\n",
    "X_train_f2 = hstack([X_train_tfidf2, coo_matrix(X_train_dropreview.iloc[:,:])])\n",
    "X_test_f2 = hstack([X_test_tfidf2, coo_matrix(X_test_dropreview.iloc[:,:])])"
   ]
  },
  {
   "cell_type": "code",
   "execution_count": 174,
   "metadata": {},
   "outputs": [
    {
     "data": {
      "text/plain": [
       "28.941734343422553"
      ]
     },
     "execution_count": 174,
     "metadata": {},
     "output_type": "execute_result"
    }
   ],
   "source": [
    "# xgboost w/ 20,000 max features\n",
    "y_pred_xgbr2, rmse_xgbr2 = m.model_result(xgbr, X_train_f2, X_test_f2, y_train, y_test)\n",
    "rmse_xgbr2"
   ]
  },
  {
   "cell_type": "code",
   "execution_count": 175,
   "metadata": {},
   "outputs": [],
   "source": [
    "# adding other features to sparce matrix\n",
    "X_train_f3 = hstack([X_train_tfidf3, coo_matrix(X_train_dropreview.iloc[:,:])])\n",
    "X_test_f3 = hstack([X_test_tfidf3, coo_matrix(X_test_dropreview.iloc[:,:])])"
   ]
  },
  {
   "cell_type": "code",
   "execution_count": 176,
   "metadata": {},
   "outputs": [
    {
     "data": {
      "text/plain": [
       "28.954051387444164"
      ]
     },
     "execution_count": 176,
     "metadata": {},
     "output_type": "execute_result"
    }
   ],
   "source": [
    "# xgboost w/ 30,000 max features\n",
    "y_pred_xgbr3, rmse_xgbr3 = m.model_result(xgbr, X_train_f3, X_test_f3, y_train, y_test)\n",
    "rmse_xgbr3"
   ]
  },
  {
   "cell_type": "code",
   "execution_count": 177,
   "metadata": {},
   "outputs": [],
   "source": [
    "# adding other features to sparce matrix\n",
    "X_train_f4 = hstack([X_train_tfidf4, coo_matrix(X_train_dropreview.iloc[:,:])])\n",
    "X_test_f4 = hstack([X_test_tfidf4, coo_matrix(X_test_dropreview.iloc[:,:])])"
   ]
  },
  {
   "cell_type": "code",
   "execution_count": 178,
   "metadata": {},
   "outputs": [
    {
     "data": {
      "text/plain": [
       "28.982861683823973"
      ]
     },
     "execution_count": 178,
     "metadata": {},
     "output_type": "execute_result"
    }
   ],
   "source": [
    "# xgboost w/ 40,000 max features\n",
    "y_pred_xgbr4, rmse_xgbr4 = m.model_result(xgbr, X_train_f4, X_test_f4, y_train, y_test)\n",
    "rmse_xgbr4"
   ]
  },
  {
   "cell_type": "code",
   "execution_count": 179,
   "metadata": {},
   "outputs": [],
   "source": [
    "# adding other features to sparce matrix\n",
    "X_train_f5 = hstack([X_train_tfidf5, coo_matrix(X_train_dropreview.iloc[:,:])])\n",
    "X_test_f5 = hstack([X_test_tfidf5, coo_matrix(X_test_dropreview.iloc[:,:])])"
   ]
  },
  {
   "cell_type": "code",
   "execution_count": 180,
   "metadata": {},
   "outputs": [
    {
     "data": {
      "text/plain": [
       "29.08133987419329"
      ]
     },
     "execution_count": 180,
     "metadata": {},
     "output_type": "execute_result"
    }
   ],
   "source": [
    "# xgboost w/ 50,000 max features\n",
    "y_pred_xgbr5, rmse_xgbr5 = m.model_result(xgbr, X_train_f5, X_test_f5, y_train, y_test)\n",
    "rmse_xgbr5"
   ]
  },
  {
   "cell_type": "code",
   "execution_count": 39,
   "metadata": {},
   "outputs": [],
   "source": [
    "# xgboost with 20,000 max features give the lowest rmse 28.941734343422553"
   ]
  },
  {
   "cell_type": "code",
   "execution_count": 215,
   "metadata": {},
   "outputs": [],
   "source": [
    "stemmer_xgb = [28.950845631032966, 28.941734343422553, 28.954051387444164, 28.982861683823973, 29.08133987419329]"
   ]
  },
  {
   "cell_type": "markdown",
   "metadata": {},
   "source": [
    "### Using Lemmatizer"
   ]
  },
  {
   "cell_type": "code",
   "execution_count": 132,
   "metadata": {},
   "outputs": [],
   "source": [
    "data_lem = dp.drop_na(data)"
   ]
  },
  {
   "cell_type": "code",
   "execution_count": 133,
   "metadata": {},
   "outputs": [],
   "source": [
    "# using WordNetLemmatizer\n",
    "data_lem = dp.features_regression(data_lem)"
   ]
  },
  {
   "cell_type": "code",
   "execution_count": 134,
   "metadata": {},
   "outputs": [],
   "source": [
    "X_train_lem, X_test_lem, y_train_lem, y_test_lem = dp.split(data_lem)"
   ]
  },
  {
   "cell_type": "code",
   "execution_count": 149,
   "metadata": {},
   "outputs": [],
   "source": [
    "rmse_lem_xgb=[]\n",
    "for i in range(10000, 60000, 10000):\n",
    "    X_train_tfidf, X_test_tfidf = dp.tfidf_vect(X_train_lem, X_test_lem, max_features=i)\n",
    "    X_train_l = hstack([X_train_tfidf, coo_matrix(X_train_lem.drop(columns=['review_clean']))])\n",
    "    X_test_l = hstack([X_test_tfidf, coo_matrix(X_test_lem.drop(columns=['review_clean']))])\n",
    "    y_pred_xgbr_l, rmse_xgbr_l = m.model_result(xgbr, X_train_l, X_test_l, y_train_lem, y_test_lem)\n",
    "    rmse_lem_xgb.append(rmse_xgbr_l)\n"
   ]
  },
  {
   "cell_type": "code",
   "execution_count": 150,
   "metadata": {},
   "outputs": [
    {
     "data": {
      "text/plain": [
       "[29.049585755417123,\n",
       " 28.9685916503606,\n",
       " 29.203455340549517,\n",
       " 29.148556898387632,\n",
       " 29.084863435990812]"
      ]
     },
     "execution_count": 150,
     "metadata": {},
     "output_type": "execute_result"
    }
   ],
   "source": [
    "rmse_lem_xgb"
   ]
  },
  {
   "cell_type": "code",
   "execution_count": 264,
   "metadata": {},
   "outputs": [
    {
     "data": {
      "text/plain": [
       "<matplotlib.legend.Legend at 0x7f7825d68b70>"
      ]
     },
     "execution_count": 264,
     "metadata": {},
     "output_type": "execute_result"
    },
    {
     "data": {
      "image/png": "[encoded data removed]",
      "text/plain": [
       "<Figure size 432x288 with 1 Axes>"
      ]
     },
     "metadata": {},
     "output_type": "display_data"
    }
   ],
   "source": [
    "plt.plot(range(10000, 60000, 10000), stemmer_xgb)\n",
    "plt.plot(range(10000, 60000, 10000), rmse_lem_xgb)\n",
    "\n",
    "plt.xticks([i for i in range(10000, 60000, 10000)]);\n",
    "plt.title('RMSE for XGBoostRegressor, Varying TFIDF Max_Features')\n",
    "plt.xlabel('Max_Feature', fontsize=13)\n",
    "plt.ylabel('RMSE', fontsize=13)\n",
    "plt.legend(['PorterStemmer','WordNetLemmatizer'])"
   ]
  },
  {
   "cell_type": "code",
   "execution_count": 143,
   "metadata": {},
   "outputs": [
    {
     "name": "stdout",
     "output_type": "stream",
     "text": [
      "<class 'pandas.core.frame.DataFrame'>\n",
      "Int64Index: 127598 entries, 160029 to 123358\n",
      "Data columns (total 5 columns):\n",
      "rating               127598 non-null float64\n",
      "review_clean         127598 non-null object\n",
      "review_len           127598 non-null int64\n",
      "count_unique_word    127598 non-null int64\n",
      "compound             127598 non-null float64\n",
      "dtypes: float64(2), int64(2), object(1)\n",
      "memory usage: 5.8+ MB\n"
     ]
    }
   ],
   "source": [
    "X_train_lem.info()"
   ]
  },
  {
   "cell_type": "code",
   "execution_count": 151,
   "metadata": {},
   "outputs": [],
   "source": [
    "X_train_tfidf, X_test_tfidf = dp.tfidf_vect(X_train_lem, X_test_lem, max_features=20000)\n",
    "X_train_l = hstack([X_train_tfidf, coo_matrix(X_train_lem[['rating','review_len','count_unique_word','compound']])])\n",
    "X_test_l = hstack([X_test_tfidf, coo_matrix(X_test_lem[['rating','review_len','count_unique_word','compound']])])"
   ]
  },
  {
   "cell_type": "code",
   "execution_count": 68,
   "metadata": {},
   "outputs": [
    {
     "name": "stdout",
     "output_type": "stream",
     "text": [
      "Fitting 2 folds for each of 72 candidates, totalling 144 fits\n",
      "[CV] learning_rate=0.06, max_depth=5, min_child_weight=1, subsample=0.7 \n"
     ]
    },
    {
     "name": "stderr",
     "output_type": "stream",
     "text": [
      "[Parallel(n_jobs=1)]: Using backend SequentialBackend with 1 concurrent workers.\n"
     ]
    },
    {
     "name": "stdout",
     "output_type": "stream",
     "text": [
      "[CV]  learning_rate=0.06, max_depth=5, min_child_weight=1, subsample=0.7, score=0.243, total=  11.5s\n",
      "[CV] learning_rate=0.06, max_depth=5, min_child_weight=1, subsample=0.7 \n"
     ]
    },
    {
     "name": "stderr",
     "output_type": "stream",
     "text": [
      "[Parallel(n_jobs=1)]: Done   1 out of   1 | elapsed:   11.5s remaining:    0.0s\n"
     ]
    },
    {
     "name": "stdout",
     "output_type": "stream",
     "text": [
      "[CV]  learning_rate=0.06, max_depth=5, min_child_weight=1, subsample=0.7, score=0.237, total=  11.5s\n",
      "[CV] learning_rate=0.06, max_depth=5, min_child_weight=1, subsample=1 \n"
     ]
    },
    {
     "name": "stderr",
     "output_type": "stream",
     "text": [
      "[Parallel(n_jobs=1)]: Done   2 out of   2 | elapsed:   23.0s remaining:    0.0s\n"
     ]
    },
    {
     "name": "stdout",
     "output_type": "stream",
     "text": [
      "[CV]  learning_rate=0.06, max_depth=5, min_child_weight=1, subsample=1, score=0.242, total=  12.1s\n",
      "[CV] learning_rate=0.06, max_depth=5, min_child_weight=1, subsample=1 \n",
      "[CV]  learning_rate=0.06, max_depth=5, min_child_weight=1, subsample=1, score=0.239, total=  13.5s\n",
      "[CV] learning_rate=0.06, max_depth=5, min_child_weight=3, subsample=0.7 \n",
      "[CV]  learning_rate=0.06, max_depth=5, min_child_weight=3, subsample=0.7, score=0.241, total=  11.5s\n",
      "[CV] learning_rate=0.06, max_depth=5, min_child_weight=3, subsample=0.7 \n",
      "[CV]  learning_rate=0.06, max_depth=5, min_child_weight=3, subsample=0.7, score=0.236, total=  11.4s\n",
      "[CV] learning_rate=0.06, max_depth=5, min_child_weight=3, subsample=1 \n",
      "[CV]  learning_rate=0.06, max_depth=5, min_child_weight=3, subsample=1, score=0.243, total=  12.1s\n",
      "[CV] learning_rate=0.06, max_depth=5, min_child_weight=3, subsample=1 \n",
      "[CV]  learning_rate=0.06, max_depth=5, min_child_weight=3, subsample=1, score=0.241, total=  12.1s\n",
      "[CV] learning_rate=0.06, max_depth=5, min_child_weight=4, subsample=0.7 \n",
      "[CV]  learning_rate=0.06, max_depth=5, min_child_weight=4, subsample=0.7, score=0.240, total=  11.5s\n",
      "[CV] learning_rate=0.06, max_depth=5, min_child_weight=4, subsample=0.7 \n",
      "[CV]  learning_rate=0.06, max_depth=5, min_child_weight=4, subsample=0.7, score=0.234, total=  11.5s\n",
      "[CV] learning_rate=0.06, max_depth=5, min_child_weight=4, subsample=1 \n",
      "[CV]  learning_rate=0.06, max_depth=5, min_child_weight=4, subsample=1, score=0.244, total=  12.1s\n",
      "[CV] learning_rate=0.06, max_depth=5, min_child_weight=4, subsample=1 \n",
      "[CV]  learning_rate=0.06, max_depth=5, min_child_weight=4, subsample=1, score=0.239, total=  12.0s\n",
      "[CV] learning_rate=0.06, max_depth=6, min_child_weight=1, subsample=0.7 \n",
      "[CV]  learning_rate=0.06, max_depth=6, min_child_weight=1, subsample=0.7, score=0.256, total=  13.3s\n",
      "[CV] learning_rate=0.06, max_depth=6, min_child_weight=1, subsample=0.7 \n",
      "[CV]  learning_rate=0.06, max_depth=6, min_child_weight=1, subsample=0.7, score=0.252, total=  13.3s\n",
      "[CV] learning_rate=0.06, max_depth=6, min_child_weight=1, subsample=1 \n",
      "[CV]  learning_rate=0.06, max_depth=6, min_child_weight=1, subsample=1, score=0.256, total=  14.1s\n",
      "[CV] learning_rate=0.06, max_depth=6, min_child_weight=1, subsample=1 \n",
      "[CV]  learning_rate=0.06, max_depth=6, min_child_weight=1, subsample=1, score=0.254, total=  14.1s\n",
      "[CV] learning_rate=0.06, max_depth=6, min_child_weight=3, subsample=0.7 \n",
      "[CV]  learning_rate=0.06, max_depth=6, min_child_weight=3, subsample=0.7, score=0.252, total=  13.3s\n",
      "[CV] learning_rate=0.06, max_depth=6, min_child_weight=3, subsample=0.7 \n",
      "[CV]  learning_rate=0.06, max_depth=6, min_child_weight=3, subsample=0.7, score=0.250, total=  14.5s\n",
      "[CV] learning_rate=0.06, max_depth=6, min_child_weight=3, subsample=1 \n",
      "[CV]  learning_rate=0.06, max_depth=6, min_child_weight=3, subsample=1, score=0.256, total=  14.1s\n",
      "[CV] learning_rate=0.06, max_depth=6, min_child_weight=3, subsample=1 \n",
      "[CV]  learning_rate=0.06, max_depth=6, min_child_weight=3, subsample=1, score=0.257, total=  14.1s\n",
      "[CV] learning_rate=0.06, max_depth=6, min_child_weight=4, subsample=0.7 \n",
      "[CV]  learning_rate=0.06, max_depth=6, min_child_weight=4, subsample=0.7, score=0.253, total=  13.3s\n",
      "[CV] learning_rate=0.06, max_depth=6, min_child_weight=4, subsample=0.7 \n",
      "[CV]  learning_rate=0.06, max_depth=6, min_child_weight=4, subsample=0.7, score=0.246, total=  13.2s\n",
      "[CV] learning_rate=0.06, max_depth=6, min_child_weight=4, subsample=1 \n",
      "[CV]  learning_rate=0.06, max_depth=6, min_child_weight=4, subsample=1, score=0.257, total=  14.0s\n",
      "[CV] learning_rate=0.06, max_depth=6, min_child_weight=4, subsample=1 \n",
      "[CV]  learning_rate=0.06, max_depth=6, min_child_weight=4, subsample=1, score=0.254, total=  14.1s\n",
      "[CV] learning_rate=0.06, max_depth=7, min_child_weight=1, subsample=0.7 \n",
      "[CV]  learning_rate=0.06, max_depth=7, min_child_weight=1, subsample=0.7, score=0.268, total=  15.2s\n",
      "[CV] learning_rate=0.06, max_depth=7, min_child_weight=1, subsample=0.7 \n",
      "[CV]  learning_rate=0.06, max_depth=7, min_child_weight=1, subsample=0.7, score=0.266, total=  15.2s\n",
      "[CV] learning_rate=0.06, max_depth=7, min_child_weight=1, subsample=1 \n",
      "[CV]  learning_rate=0.06, max_depth=7, min_child_weight=1, subsample=1, score=0.270, total=  16.3s\n",
      "[CV] learning_rate=0.06, max_depth=7, min_child_weight=1, subsample=1 \n",
      "[CV]  learning_rate=0.06, max_depth=7, min_child_weight=1, subsample=1, score=0.270, total=  16.2s\n",
      "[CV] learning_rate=0.06, max_depth=7, min_child_weight=3, subsample=0.7 \n",
      "[CV]  learning_rate=0.06, max_depth=7, min_child_weight=3, subsample=0.7, score=0.267, total=  15.1s\n",
      "[CV] learning_rate=0.06, max_depth=7, min_child_weight=3, subsample=0.7 \n",
      "[CV]  learning_rate=0.06, max_depth=7, min_child_weight=3, subsample=0.7, score=0.263, total=  15.7s\n",
      "[CV] learning_rate=0.06, max_depth=7, min_child_weight=3, subsample=1 \n",
      "[CV]  learning_rate=0.06, max_depth=7, min_child_weight=3, subsample=1, score=0.272, total=  16.2s\n",
      "[CV] learning_rate=0.06, max_depth=7, min_child_weight=3, subsample=1 \n",
      "[CV]  learning_rate=0.06, max_depth=7, min_child_weight=3, subsample=1, score=0.269, total=  16.2s\n",
      "[CV] learning_rate=0.06, max_depth=7, min_child_weight=4, subsample=0.7 \n",
      "[CV]  learning_rate=0.06, max_depth=7, min_child_weight=4, subsample=0.7, score=0.266, total=  15.1s\n",
      "[CV] learning_rate=0.06, max_depth=7, min_child_weight=4, subsample=0.7 \n",
      "[CV]  learning_rate=0.06, max_depth=7, min_child_weight=4, subsample=0.7, score=0.258, total=  15.0s\n",
      "[CV] learning_rate=0.06, max_depth=7, min_child_weight=4, subsample=1 \n",
      "[CV]  learning_rate=0.06, max_depth=7, min_child_weight=4, subsample=1, score=0.270, total=  16.1s\n",
      "[CV] learning_rate=0.06, max_depth=7, min_child_weight=4, subsample=1 \n",
      "[CV]  learning_rate=0.06, max_depth=7, min_child_weight=4, subsample=1, score=0.266, total=  16.1s\n",
      "[CV] learning_rate=0.1, max_depth=5, min_child_weight=1, subsample=0.7 \n",
      "[CV]  learning_rate=0.1, max_depth=5, min_child_weight=1, subsample=0.7, score=0.263, total=  11.4s\n",
      "[CV] learning_rate=0.1, max_depth=5, min_child_weight=1, subsample=0.7 \n",
      "[CV]  learning_rate=0.1, max_depth=5, min_child_weight=1, subsample=0.7, score=0.258, total=  11.4s\n",
      "[CV] learning_rate=0.1, max_depth=5, min_child_weight=1, subsample=1 .\n",
      "[CV]  learning_rate=0.1, max_depth=5, min_child_weight=1, subsample=1, score=0.264, total=  12.1s\n",
      "[CV] learning_rate=0.1, max_depth=5, min_child_weight=1, subsample=1 .\n",
      "[CV]  learning_rate=0.1, max_depth=5, min_child_weight=1, subsample=1, score=0.261, total=  12.1s\n",
      "[CV] learning_rate=0.1, max_depth=5, min_child_weight=3, subsample=0.7 \n",
      "[CV]  learning_rate=0.1, max_depth=5, min_child_weight=3, subsample=0.7, score=0.257, total=  11.4s\n",
      "[CV] learning_rate=0.1, max_depth=5, min_child_weight=3, subsample=0.7 \n",
      "[CV]  learning_rate=0.1, max_depth=5, min_child_weight=3, subsample=0.7, score=0.257, total=  11.4s\n",
      "[CV] learning_rate=0.1, max_depth=5, min_child_weight=3, subsample=1 .\n",
      "[CV]  learning_rate=0.1, max_depth=5, min_child_weight=3, subsample=1, score=0.263, total=  12.0s\n",
      "[CV] learning_rate=0.1, max_depth=5, min_child_weight=3, subsample=1 .\n",
      "[CV]  learning_rate=0.1, max_depth=5, min_child_weight=3, subsample=1, score=0.263, total=  13.1s\n",
      "[CV] learning_rate=0.1, max_depth=5, min_child_weight=4, subsample=0.7 \n",
      "[CV]  learning_rate=0.1, max_depth=5, min_child_weight=4, subsample=0.7, score=0.258, total=  11.4s\n",
      "[CV] learning_rate=0.1, max_depth=5, min_child_weight=4, subsample=0.7 \n",
      "[CV]  learning_rate=0.1, max_depth=5, min_child_weight=4, subsample=0.7, score=0.253, total=  11.4s\n",
      "[CV] learning_rate=0.1, max_depth=5, min_child_weight=4, subsample=1 .\n",
      "[CV]  learning_rate=0.1, max_depth=5, min_child_weight=4, subsample=1, score=0.263, total=  12.0s\n",
      "[CV] learning_rate=0.1, max_depth=5, min_child_weight=4, subsample=1 .\n",
      "[CV]  learning_rate=0.1, max_depth=5, min_child_weight=4, subsample=1, score=0.260, total=  12.0s\n",
      "[CV] learning_rate=0.1, max_depth=6, min_child_weight=1, subsample=0.7 \n",
      "[CV]  learning_rate=0.1, max_depth=6, min_child_weight=1, subsample=0.7, score=0.277, total=  13.3s\n",
      "[CV] learning_rate=0.1, max_depth=6, min_child_weight=1, subsample=0.7 \n",
      "[CV]  learning_rate=0.1, max_depth=6, min_child_weight=1, subsample=0.7, score=0.273, total=  13.3s\n",
      "[CV] learning_rate=0.1, max_depth=6, min_child_weight=1, subsample=1 .\n",
      "[CV]  learning_rate=0.1, max_depth=6, min_child_weight=1, subsample=1, score=0.280, total=  14.1s\n",
      "[CV] learning_rate=0.1, max_depth=6, min_child_weight=1, subsample=1 .\n",
      "[CV]  learning_rate=0.1, max_depth=6, min_child_weight=1, subsample=1, score=0.277, total=  14.0s\n",
      "[CV] learning_rate=0.1, max_depth=6, min_child_weight=3, subsample=0.7 \n",
      "[CV]  learning_rate=0.1, max_depth=6, min_child_weight=3, subsample=0.7, score=0.271, total=  13.2s\n",
      "[CV] learning_rate=0.1, max_depth=6, min_child_weight=3, subsample=0.7 \n",
      "[CV]  learning_rate=0.1, max_depth=6, min_child_weight=3, subsample=0.7, score=0.269, total=  13.3s\n",
      "[CV] learning_rate=0.1, max_depth=6, min_child_weight=3, subsample=1 .\n",
      "[CV]  learning_rate=0.1, max_depth=6, min_child_weight=3, subsample=1, score=0.280, total=  14.1s\n",
      "[CV] learning_rate=0.1, max_depth=6, min_child_weight=3, subsample=1 .\n",
      "[CV]  learning_rate=0.1, max_depth=6, min_child_weight=3, subsample=1, score=0.276, total=  14.0s\n",
      "[CV] learning_rate=0.1, max_depth=6, min_child_weight=4, subsample=0.7 \n",
      "[CV]  learning_rate=0.1, max_depth=6, min_child_weight=4, subsample=0.7, score=0.272, total=  13.7s\n",
      "[CV] learning_rate=0.1, max_depth=6, min_child_weight=4, subsample=0.7 \n",
      "[CV]  learning_rate=0.1, max_depth=6, min_child_weight=4, subsample=0.7, score=0.265, total=  13.2s\n",
      "[CV] learning_rate=0.1, max_depth=6, min_child_weight=4, subsample=1 .\n",
      "[CV]  learning_rate=0.1, max_depth=6, min_child_weight=4, subsample=1, score=0.277, total=  13.9s\n",
      "[CV] learning_rate=0.1, max_depth=6, min_child_weight=4, subsample=1 .\n",
      "[CV]  learning_rate=0.1, max_depth=6, min_child_weight=4, subsample=1, score=0.276, total=  14.1s\n",
      "[CV] learning_rate=0.1, max_depth=7, min_child_weight=1, subsample=0.7 \n",
      "[CV]  learning_rate=0.1, max_depth=7, min_child_weight=1, subsample=0.7, score=0.288, total=  15.1s\n",
      "[CV] learning_rate=0.1, max_depth=7, min_child_weight=1, subsample=0.7 \n",
      "[CV]  learning_rate=0.1, max_depth=7, min_child_weight=1, subsample=0.7, score=0.286, total=  15.2s\n",
      "[CV] learning_rate=0.1, max_depth=7, min_child_weight=1, subsample=1 .\n",
      "[CV]  learning_rate=0.1, max_depth=7, min_child_weight=1, subsample=1, score=0.292, total=  16.1s\n",
      "[CV] learning_rate=0.1, max_depth=7, min_child_weight=1, subsample=1 .\n",
      "[CV]  learning_rate=0.1, max_depth=7, min_child_weight=1, subsample=1, score=0.288, total=  16.0s\n",
      "[CV] learning_rate=0.1, max_depth=7, min_child_weight=3, subsample=0.7 \n",
      "[CV]  learning_rate=0.1, max_depth=7, min_child_weight=3, subsample=0.7, score=0.284, total=  15.0s\n",
      "[CV] learning_rate=0.1, max_depth=7, min_child_weight=3, subsample=0.7 \n",
      "[CV]  learning_rate=0.1, max_depth=7, min_child_weight=3, subsample=0.7, score=0.287, total=  15.1s\n",
      "[CV] learning_rate=0.1, max_depth=7, min_child_weight=3, subsample=1 .\n",
      "[CV]  learning_rate=0.1, max_depth=7, min_child_weight=3, subsample=1, score=0.291, total=  16.0s\n",
      "[CV] learning_rate=0.1, max_depth=7, min_child_weight=3, subsample=1 .\n",
      "[CV]  learning_rate=0.1, max_depth=7, min_child_weight=3, subsample=1, score=0.293, total=  16.0s\n",
      "[CV] learning_rate=0.1, max_depth=7, min_child_weight=4, subsample=0.7 \n",
      "[CV]  learning_rate=0.1, max_depth=7, min_child_weight=4, subsample=0.7, score=0.283, total=  16.3s\n",
      "[CV] learning_rate=0.1, max_depth=7, min_child_weight=4, subsample=0.7 \n",
      "[CV]  learning_rate=0.1, max_depth=7, min_child_weight=4, subsample=0.7, score=0.276, total=  15.0s\n",
      "[CV] learning_rate=0.1, max_depth=7, min_child_weight=4, subsample=1 .\n",
      "[CV]  learning_rate=0.1, max_depth=7, min_child_weight=4, subsample=1, score=0.290, total=  16.0s\n",
      "[CV] learning_rate=0.1, max_depth=7, min_child_weight=4, subsample=1 .\n",
      "[CV]  learning_rate=0.1, max_depth=7, min_child_weight=4, subsample=1, score=0.287, total=  16.0s\n",
      "[CV] learning_rate=0.2, max_depth=5, min_child_weight=1, subsample=0.7 \n",
      "[CV]  learning_rate=0.2, max_depth=5, min_child_weight=1, subsample=0.7, score=0.286, total=  11.4s\n",
      "[CV] learning_rate=0.2, max_depth=5, min_child_weight=1, subsample=0.7 \n",
      "[CV]  learning_rate=0.2, max_depth=5, min_child_weight=1, subsample=0.7, score=0.278, total=  11.4s\n",
      "[CV] learning_rate=0.2, max_depth=5, min_child_weight=1, subsample=1 .\n",
      "[CV]  learning_rate=0.2, max_depth=5, min_child_weight=1, subsample=1, score=0.292, total=  12.0s\n",
      "[CV] learning_rate=0.2, max_depth=5, min_child_weight=1, subsample=1 .\n",
      "[CV]  learning_rate=0.2, max_depth=5, min_child_weight=1, subsample=1, score=0.288, total=  12.0s\n",
      "[CV] learning_rate=0.2, max_depth=5, min_child_weight=3, subsample=0.7 \n",
      "[CV]  learning_rate=0.2, max_depth=5, min_child_weight=3, subsample=0.7, score=0.279, total=  11.4s\n",
      "[CV] learning_rate=0.2, max_depth=5, min_child_weight=3, subsample=0.7 \n",
      "[CV]  learning_rate=0.2, max_depth=5, min_child_weight=3, subsample=0.7, score=0.281, total=  11.4s\n",
      "[CV] learning_rate=0.2, max_depth=5, min_child_weight=3, subsample=1 .\n",
      "[CV]  learning_rate=0.2, max_depth=5, min_child_weight=3, subsample=1, score=0.289, total=  12.0s\n",
      "[CV] learning_rate=0.2, max_depth=5, min_child_weight=3, subsample=1 .\n",
      "[CV]  learning_rate=0.2, max_depth=5, min_child_weight=3, subsample=1, score=0.292, total=  12.0s\n",
      "[CV] learning_rate=0.2, max_depth=5, min_child_weight=4, subsample=0.7 \n",
      "[CV]  learning_rate=0.2, max_depth=5, min_child_weight=4, subsample=0.7, score=0.280, total=  11.4s\n",
      "[CV] learning_rate=0.2, max_depth=5, min_child_weight=4, subsample=0.7 \n",
      "[CV]  learning_rate=0.2, max_depth=5, min_child_weight=4, subsample=0.7, score=0.272, total=  11.3s\n",
      "[CV] learning_rate=0.2, max_depth=5, min_child_weight=4, subsample=1 .\n",
      "[CV]  learning_rate=0.2, max_depth=5, min_child_weight=4, subsample=1, score=0.286, total=  11.9s\n",
      "[CV] learning_rate=0.2, max_depth=5, min_child_weight=4, subsample=1 .\n",
      "[CV]  learning_rate=0.2, max_depth=5, min_child_weight=4, subsample=1, score=0.287, total=  12.7s\n",
      "[CV] learning_rate=0.2, max_depth=6, min_child_weight=1, subsample=0.7 \n",
      "[CV]  learning_rate=0.2, max_depth=6, min_child_weight=1, subsample=0.7, score=0.297, total=  13.3s\n",
      "[CV] learning_rate=0.2, max_depth=6, min_child_weight=1, subsample=0.7 \n",
      "[CV]  learning_rate=0.2, max_depth=6, min_child_weight=1, subsample=0.7, score=0.289, total=  13.2s\n",
      "[CV] learning_rate=0.2, max_depth=6, min_child_weight=1, subsample=1 .\n",
      "[CV]  learning_rate=0.2, max_depth=6, min_child_weight=1, subsample=1, score=0.306, total=  14.0s\n",
      "[CV] learning_rate=0.2, max_depth=6, min_child_weight=1, subsample=1 .\n",
      "[CV]  learning_rate=0.2, max_depth=6, min_child_weight=1, subsample=1, score=0.303, total=  13.9s\n",
      "[CV] learning_rate=0.2, max_depth=6, min_child_weight=3, subsample=0.7 \n",
      "[CV]  learning_rate=0.2, max_depth=6, min_child_weight=3, subsample=0.7, score=0.292, total=  13.2s\n",
      "[CV] learning_rate=0.2, max_depth=6, min_child_weight=3, subsample=0.7 \n",
      "[CV]  learning_rate=0.2, max_depth=6, min_child_weight=3, subsample=0.7, score=0.290, total=  13.2s\n",
      "[CV] learning_rate=0.2, max_depth=6, min_child_weight=3, subsample=1 .\n",
      "[CV]  learning_rate=0.2, max_depth=6, min_child_weight=3, subsample=1, score=0.304, total=  13.9s\n",
      "[CV] learning_rate=0.2, max_depth=6, min_child_weight=3, subsample=1 .\n",
      "[CV]  learning_rate=0.2, max_depth=6, min_child_weight=3, subsample=1, score=0.307, total=  13.9s\n",
      "[CV] learning_rate=0.2, max_depth=6, min_child_weight=4, subsample=0.7 \n",
      "[CV]  learning_rate=0.2, max_depth=6, min_child_weight=4, subsample=0.7, score=0.287, total=  13.1s\n",
      "[CV] learning_rate=0.2, max_depth=6, min_child_weight=4, subsample=0.7 \n",
      "[CV]  learning_rate=0.2, max_depth=6, min_child_weight=4, subsample=0.7, score=0.286, total=  13.1s\n",
      "[CV] learning_rate=0.2, max_depth=6, min_child_weight=4, subsample=1 .\n",
      "[CV]  learning_rate=0.2, max_depth=6, min_child_weight=4, subsample=1, score=0.300, total=  14.0s\n",
      "[CV] learning_rate=0.2, max_depth=6, min_child_weight=4, subsample=1 .\n",
      "[CV]  learning_rate=0.2, max_depth=6, min_child_weight=4, subsample=1, score=0.299, total=  14.0s\n",
      "[CV] learning_rate=0.2, max_depth=7, min_child_weight=1, subsample=0.7 \n",
      "[CV]  learning_rate=0.2, max_depth=7, min_child_weight=1, subsample=0.7, score=0.309, total=  16.7s\n",
      "[CV] learning_rate=0.2, max_depth=7, min_child_weight=1, subsample=0.7 \n",
      "[CV]  learning_rate=0.2, max_depth=7, min_child_weight=1, subsample=0.7, score=0.305, total=  15.0s\n",
      "[CV] learning_rate=0.2, max_depth=7, min_child_weight=1, subsample=1 .\n",
      "[CV]  learning_rate=0.2, max_depth=7, min_child_weight=1, subsample=1, score=0.316, total=  16.0s\n",
      "[CV] learning_rate=0.2, max_depth=7, min_child_weight=1, subsample=1 .\n",
      "[CV]  learning_rate=0.2, max_depth=7, min_child_weight=1, subsample=1, score=0.317, total=  16.1s\n",
      "[CV] learning_rate=0.2, max_depth=7, min_child_weight=3, subsample=0.7 \n",
      "[CV]  learning_rate=0.2, max_depth=7, min_child_weight=3, subsample=0.7, score=0.298, total=  15.0s\n",
      "[CV] learning_rate=0.2, max_depth=7, min_child_weight=3, subsample=0.7 \n",
      "[CV]  learning_rate=0.2, max_depth=7, min_child_weight=3, subsample=0.7, score=0.303, total=  14.9s\n",
      "[CV] learning_rate=0.2, max_depth=7, min_child_weight=3, subsample=1 .\n",
      "[CV]  learning_rate=0.2, max_depth=7, min_child_weight=3, subsample=1, score=0.316, total=  16.1s\n",
      "[CV] learning_rate=0.2, max_depth=7, min_child_weight=3, subsample=1 .\n",
      "[CV]  learning_rate=0.2, max_depth=7, min_child_weight=3, subsample=1, score=0.315, total=  15.9s\n",
      "[CV] learning_rate=0.2, max_depth=7, min_child_weight=4, subsample=0.7 \n",
      "[CV]  learning_rate=0.2, max_depth=7, min_child_weight=4, subsample=0.7, score=0.294, total=  15.0s\n",
      "[CV] learning_rate=0.2, max_depth=7, min_child_weight=4, subsample=0.7 \n",
      "[CV]  learning_rate=0.2, max_depth=7, min_child_weight=4, subsample=0.7, score=0.299, total=  14.9s\n",
      "[CV] learning_rate=0.2, max_depth=7, min_child_weight=4, subsample=1 .\n",
      "[CV]  learning_rate=0.2, max_depth=7, min_child_weight=4, subsample=1, score=0.313, total=  15.9s\n",
      "[CV] learning_rate=0.2, max_depth=7, min_child_weight=4, subsample=1 .\n",
      "[CV]  learning_rate=0.2, max_depth=7, min_child_weight=4, subsample=1, score=0.308, total=  16.3s\n",
      "[CV] learning_rate=0.3, max_depth=5, min_child_weight=1, subsample=0.7 \n",
      "[CV]  learning_rate=0.3, max_depth=5, min_child_weight=1, subsample=0.7, score=0.289, total=  11.4s\n",
      "[CV] learning_rate=0.3, max_depth=5, min_child_weight=1, subsample=0.7 \n",
      "[CV]  learning_rate=0.3, max_depth=5, min_child_weight=1, subsample=0.7, score=0.285, total=  11.4s\n",
      "[CV] learning_rate=0.3, max_depth=5, min_child_weight=1, subsample=1 .\n",
      "[CV]  learning_rate=0.3, max_depth=5, min_child_weight=1, subsample=1, score=0.301, total=  12.0s\n",
      "[CV] learning_rate=0.3, max_depth=5, min_child_weight=1, subsample=1 .\n",
      "[CV]  learning_rate=0.3, max_depth=5, min_child_weight=1, subsample=1, score=0.300, total=  11.9s\n",
      "[CV] learning_rate=0.3, max_depth=5, min_child_weight=3, subsample=0.7 \n",
      "[CV]  learning_rate=0.3, max_depth=5, min_child_weight=3, subsample=0.7, score=0.279, total=  11.3s\n",
      "[CV] learning_rate=0.3, max_depth=5, min_child_weight=3, subsample=0.7 \n",
      "[CV]  learning_rate=0.3, max_depth=5, min_child_weight=3, subsample=0.7, score=0.281, total=  11.3s\n",
      "[CV] learning_rate=0.3, max_depth=5, min_child_weight=3, subsample=1 .\n",
      "[CV]  learning_rate=0.3, max_depth=5, min_child_weight=3, subsample=1, score=0.297, total=  11.9s\n",
      "[CV] learning_rate=0.3, max_depth=5, min_child_weight=3, subsample=1 .\n",
      "[CV]  learning_rate=0.3, max_depth=5, min_child_weight=3, subsample=1, score=0.297, total=  12.0s\n",
      "[CV] learning_rate=0.3, max_depth=5, min_child_weight=4, subsample=0.7 \n",
      "[CV]  learning_rate=0.3, max_depth=5, min_child_weight=4, subsample=0.7, score=0.276, total=  11.3s\n",
      "[CV] learning_rate=0.3, max_depth=5, min_child_weight=4, subsample=0.7 \n",
      "[CV]  learning_rate=0.3, max_depth=5, min_child_weight=4, subsample=0.7, score=0.278, total=  11.3s\n",
      "[CV] learning_rate=0.3, max_depth=5, min_child_weight=4, subsample=1 .\n",
      "[CV]  learning_rate=0.3, max_depth=5, min_child_weight=4, subsample=1, score=0.299, total=  11.9s\n",
      "[CV] learning_rate=0.3, max_depth=5, min_child_weight=4, subsample=1 .\n",
      "[CV]  learning_rate=0.3, max_depth=5, min_child_weight=4, subsample=1, score=0.298, total=  11.9s\n",
      "[CV] learning_rate=0.3, max_depth=6, min_child_weight=1, subsample=0.7 \n",
      "[CV]  learning_rate=0.3, max_depth=6, min_child_weight=1, subsample=0.7, score=0.299, total=  13.3s\n",
      "[CV] learning_rate=0.3, max_depth=6, min_child_weight=1, subsample=0.7 \n",
      "[CV]  learning_rate=0.3, max_depth=6, min_child_weight=1, subsample=0.7, score=0.295, total=  13.2s\n",
      "[CV] learning_rate=0.3, max_depth=6, min_child_weight=1, subsample=1 .\n",
      "[CV]  learning_rate=0.3, max_depth=6, min_child_weight=1, subsample=1, score=0.313, total=  14.9s\n",
      "[CV] learning_rate=0.3, max_depth=6, min_child_weight=1, subsample=1 .\n",
      "[CV]  learning_rate=0.3, max_depth=6, min_child_weight=1, subsample=1, score=0.314, total=  13.9s\n",
      "[CV] learning_rate=0.3, max_depth=6, min_child_weight=3, subsample=0.7 \n",
      "[CV]  learning_rate=0.3, max_depth=6, min_child_weight=3, subsample=0.7, score=0.289, total=  13.2s\n",
      "[CV] learning_rate=0.3, max_depth=6, min_child_weight=3, subsample=0.7 \n",
      "[CV]  learning_rate=0.3, max_depth=6, min_child_weight=3, subsample=0.7, score=0.290, total=  13.1s\n",
      "[CV] learning_rate=0.3, max_depth=6, min_child_weight=3, subsample=1 .\n",
      "[CV]  learning_rate=0.3, max_depth=6, min_child_weight=3, subsample=1, score=0.312, total=  13.8s\n",
      "[CV] learning_rate=0.3, max_depth=6, min_child_weight=3, subsample=1 .\n",
      "[CV]  learning_rate=0.3, max_depth=6, min_child_weight=3, subsample=1, score=0.312, total=  13.8s\n",
      "[CV] learning_rate=0.3, max_depth=6, min_child_weight=4, subsample=0.7 \n",
      "[CV]  learning_rate=0.3, max_depth=6, min_child_weight=4, subsample=0.7, score=0.286, total=  13.1s\n",
      "[CV] learning_rate=0.3, max_depth=6, min_child_weight=4, subsample=0.7 \n",
      "[CV]  learning_rate=0.3, max_depth=6, min_child_weight=4, subsample=0.7, score=0.287, total=  13.1s\n",
      "[CV] learning_rate=0.3, max_depth=6, min_child_weight=4, subsample=1 .\n",
      "[CV]  learning_rate=0.3, max_depth=6, min_child_weight=4, subsample=1, score=0.308, total=  13.9s\n",
      "[CV] learning_rate=0.3, max_depth=6, min_child_weight=4, subsample=1 .\n",
      "[CV]  learning_rate=0.3, max_depth=6, min_child_weight=4, subsample=1, score=0.307, total=  13.8s\n",
      "[CV] learning_rate=0.3, max_depth=7, min_child_weight=1, subsample=0.7 \n",
      "[CV]  learning_rate=0.3, max_depth=7, min_child_weight=1, subsample=0.7, score=0.310, total=  15.2s\n",
      "[CV] learning_rate=0.3, max_depth=7, min_child_weight=1, subsample=0.7 \n",
      "[CV]  learning_rate=0.3, max_depth=7, min_child_weight=1, subsample=0.7, score=0.304, total=  15.1s\n",
      "[CV] learning_rate=0.3, max_depth=7, min_child_weight=1, subsample=1 .\n",
      "[CV]  learning_rate=0.3, max_depth=7, min_child_weight=1, subsample=1, score=0.320, total=  15.9s\n",
      "[CV] learning_rate=0.3, max_depth=7, min_child_weight=1, subsample=1 .\n",
      "[CV]  learning_rate=0.3, max_depth=7, min_child_weight=1, subsample=1, score=0.318, total=  17.1s\n",
      "[CV] learning_rate=0.3, max_depth=7, min_child_weight=3, subsample=0.7 \n",
      "[CV]  learning_rate=0.3, max_depth=7, min_child_weight=3, subsample=0.7, score=0.304, total=  15.0s\n",
      "[CV] learning_rate=0.3, max_depth=7, min_child_weight=3, subsample=0.7 \n",
      "[CV]  learning_rate=0.3, max_depth=7, min_child_weight=3, subsample=0.7, score=0.301, total=  15.0s\n",
      "[CV] learning_rate=0.3, max_depth=7, min_child_weight=3, subsample=1 .\n",
      "[CV]  learning_rate=0.3, max_depth=7, min_child_weight=3, subsample=1, score=0.320, total=  15.9s\n",
      "[CV] learning_rate=0.3, max_depth=7, min_child_weight=3, subsample=1 .\n",
      "[CV]  learning_rate=0.3, max_depth=7, min_child_weight=3, subsample=1, score=0.327, total=  15.8s\n",
      "[CV] learning_rate=0.3, max_depth=7, min_child_weight=4, subsample=0.7 \n",
      "[CV]  learning_rate=0.3, max_depth=7, min_child_weight=4, subsample=0.7, score=0.294, total=  15.0s\n",
      "[CV] learning_rate=0.3, max_depth=7, min_child_weight=4, subsample=0.7 \n",
      "[CV]  learning_rate=0.3, max_depth=7, min_child_weight=4, subsample=0.7, score=0.304, total=  15.0s\n",
      "[CV] learning_rate=0.3, max_depth=7, min_child_weight=4, subsample=1 .\n",
      "[CV]  learning_rate=0.3, max_depth=7, min_child_weight=4, subsample=1, score=0.317, total=  15.9s\n",
      "[CV] learning_rate=0.3, max_depth=7, min_child_weight=4, subsample=1 .\n",
      "[CV]  learning_rate=0.3, max_depth=7, min_child_weight=4, subsample=1, score=0.319, total=  15.8s\n"
     ]
    },
    {
     "name": "stderr",
     "output_type": "stream",
     "text": [
      "[Parallel(n_jobs=1)]: Done 144 out of 144 | elapsed: 32.9min finished\n"
     ]
    },
    {
     "data": {
      "text/plain": [
       "GridSearchCV(cv=2,\n",
       "             estimator=XGBRegressor(base_score=0.5, booster=None,\n",
       "                                    colsample_bylevel=1, colsample_bynode=1,\n",
       "                                    colsample_bytree=1, gamma=0, gpu_id=-1,\n",
       "                                    importance_type='gain',\n",
       "                                    interaction_constraints=None,\n",
       "                                    learning_rate=0.300000012, max_delta_step=0,\n",
       "                                    max_depth=6, min_child_weight=1,\n",
       "                                    missing=nan, monotone_constraints=None,\n",
       "                                    n_estimators=100, n_jobs=0,\n",
       "                                    num_parallel_tree=1, random_state=0,\n",
       "                                    reg_alpha=0, reg_lambda=1,\n",
       "                                    scale_pos_weight=1, subsample=1,\n",
       "                                    tree_method=None, validate_parameters=False,\n",
       "                                    verbosity=None),\n",
       "             param_grid={'learning_rate': [0.06, 0.1, 0.2, 0.3],\n",
       "                         'max_depth': [5, 6, 7], 'min_child_weight': [1, 3, 4],\n",
       "                         'subsample': [0.7, 1]},\n",
       "             verbose=3)"
      ]
     },
     "execution_count": 68,
     "metadata": {},
     "output_type": "execute_result"
    }
   ],
   "source": [
    "# grid search on stemmer, xgb, 10000 max features\n",
    "\n",
    "from sklearn.model_selection import GridSearchCV\n",
    "parameters = {\n",
    "    'learning_rate': [0.06,0.1, 0.2, 0.3], \n",
    "    'max_depth':[5,6,7],\n",
    "    'min_child_weight':[1,3,4],\n",
    "    'subsample': [0.7, 1]\n",
    "}\n",
    "\n",
    "#{'learning_rate': 0.3, 'max_depth': 7, 'min_child_weight': 3, 'subsample': 1}\n",
    "xgb_grid = GridSearchCV(xgbr, parameters, cv=2, verbose=3)\n",
    "xgb_grid.fit(X_train_f2, y_train)\n",
    "\n"
   ]
  },
  {
   "cell_type": "code",
   "execution_count": 69,
   "metadata": {},
   "outputs": [
    {
     "name": "stdout",
     "output_type": "stream",
     "text": [
      "0.3233801028955129\n",
      "{'learning_rate': 0.3, 'max_depth': 7, 'min_child_weight': 3, 'subsample': 1}\n"
     ]
    }
   ],
   "source": [
    "print(xgb_grid.best_score_)\n",
    "print(xgb_grid.best_params_) #no sentiment"
   ]
  },
  {
   "cell_type": "code",
   "execution_count": 232,
   "metadata": {},
   "outputs": [
    {
     "data": {
      "text/plain": [
       "XGBRegressor(base_score=0.5, booster=None, colsample_bylevel=1,\n",
       "             colsample_bynode=1, colsample_bytree=1, gamma=0, gpu_id=-1,\n",
       "             importance_type='gain', interaction_constraints=None,\n",
       "             learning_rate=0.3, max_delta_step=0, max_depth=7,\n",
       "             min_child_weight=3, missing=nan, monotone_constraints=None,\n",
       "             n_estimators=100, n_jobs=0, num_parallel_tree=1, random_state=0,\n",
       "             reg_alpha=0, reg_lambda=1, scale_pos_weight=1, subsample=1,\n",
       "             tree_method=None, validate_parameters=False, verbosity=None)"
      ]
     },
     "execution_count": 232,
     "metadata": {},
     "output_type": "execute_result"
    }
   ],
   "source": [
    "xgbr_op = XGBRegressor(learning_rate=0.3, \n",
    "                    max_depth=7, \n",
    "                    min_child_weight=3,\n",
    "                    subsample=1)\n",
    "xgbr_op.fit(X_train_f2, y_train)\n"
   ]
  },
  {
   "cell_type": "markdown",
   "metadata": {},
   "source": [
    "### Save tfidfvecotrize and xgbregressor to pickle"
   ]
  },
  {
   "cell_type": "code",
   "execution_count": 233,
   "metadata": {},
   "outputs": [],
   "source": [
    "# save model to disk\n",
    "import pickle\n",
    "\n",
    "filename = 'finalized_model.sav'\n",
    "pickle.dump(xgbr_op, open(filename, 'wb'))"
   ]
  },
  {
   "cell_type": "code",
   "execution_count": 234,
   "metadata": {},
   "outputs": [],
   "source": [
    "load_model = pickle.load(open(filename, 'rb'))"
   ]
  },
  {
   "cell_type": "code",
   "execution_count": 235,
   "metadata": {},
   "outputs": [],
   "source": [
    "y_pred_xgbr_op = load_model.predict(X_test_f2)"
   ]
  },
  {
   "cell_type": "code",
   "execution_count": 236,
   "metadata": {},
   "outputs": [],
   "source": [
    "rmse = np.sqrt(mean_squared_error(y_test, y_pred_xgbr_op))"
   ]
  },
  {
   "cell_type": "code",
   "execution_count": 237,
   "metadata": {},
   "outputs": [
    {
     "data": {
      "text/plain": [
       "28.819353814345735"
      ]
     },
     "execution_count": 237,
     "metadata": {},
     "output_type": "execute_result"
    }
   ],
   "source": [
    "rmse"
   ]
  },
  {
   "cell_type": "code",
   "execution_count": 247,
   "metadata": {},
   "outputs": [
    {
     "data": {
      "text/plain": [
       "TfidfVectorizer(max_features=20000, ngram_range=(1, 2))"
      ]
     },
     "execution_count": 247,
     "metadata": {},
     "output_type": "execute_result"
    }
   ],
   "source": [
    "tfidf = TfidfVectorizer(analyzer = 'word',\n",
    "                       tokenizer = None,\n",
    "                       preprocessor = None,\n",
    "                       stop_words = None,\n",
    "                       ngram_range=(1,2),\n",
    "                       max_features=20000)\n",
    "tfidf.fit(X_train['review_clean'])"
   ]
  },
  {
   "cell_type": "code",
   "execution_count": 248,
   "metadata": {},
   "outputs": [],
   "source": [
    "pickle.dump(tfidf, open('tfidf.pickle','wb'))"
   ]
  },
  {
   "cell_type": "code",
   "execution_count": 249,
   "metadata": {},
   "outputs": [],
   "source": [
    "tfidf = pickle.load(open('tfidf.pickle','rb'))"
   ]
  },
  {
   "cell_type": "markdown",
   "metadata": {},
   "source": [
    "### Testing on Test Set"
   ]
  },
  {
   "cell_type": "code",
   "execution_count": 250,
   "metadata": {},
   "outputs": [],
   "source": [
    "data_test = pd.read_csv('data/drugsComTest_raw.tsv', sep='\\t')"
   ]
  },
  {
   "cell_type": "code",
   "execution_count": 251,
   "metadata": {},
   "outputs": [],
   "source": [
    "data_t = dp.drop_na(data_test)\n",
    "data_t = dp.features_regression(data_t)"
   ]
  },
  {
   "cell_type": "code",
   "execution_count": 252,
   "metadata": {},
   "outputs": [
    {
     "data": {
      "text/html": [
       "<div>\n",
       "<style scoped>\n",
       "    .dataframe tbody tr th:only-of-type {\n",
       "        vertical-align: middle;\n",
       "    }\n",
       "\n",
       "    .dataframe tbody tr th {\n",
       "        vertical-align: top;\n",
       "    }\n",
       "\n",
       "    .dataframe thead th {\n",
       "        text-align: right;\n",
       "    }\n",
       "</style>\n",
       "<table border=\"1\" class=\"dataframe\">\n",
       "  <thead>\n",
       "    <tr style=\"text-align: right;\">\n",
       "      <th></th>\n",
       "      <th>rating</th>\n",
       "      <th>usefulCount</th>\n",
       "      <th>review_clean</th>\n",
       "      <th>review_len</th>\n",
       "      <th>count_unique_word</th>\n",
       "      <th>compound</th>\n",
       "    </tr>\n",
       "  </thead>\n",
       "  <tbody>\n",
       "    <tr>\n",
       "      <th>0</th>\n",
       "      <td>10.0</td>\n",
       "      <td>22</td>\n",
       "      <td>tri antidepress year citalopram fluoxetin amit...</td>\n",
       "      <td>68</td>\n",
       "      <td>34</td>\n",
       "      <td>-0.4596</td>\n",
       "    </tr>\n",
       "    <tr>\n",
       "      <th>1</th>\n",
       "      <td>8.0</td>\n",
       "      <td>17</td>\n",
       "      <td>son crohn diseas done well asacol no complaint...</td>\n",
       "      <td>51</td>\n",
       "      <td>25</td>\n",
       "      <td>0.0736</td>\n",
       "    </tr>\n",
       "    <tr>\n",
       "      <th>2</th>\n",
       "      <td>9.0</td>\n",
       "      <td>3</td>\n",
       "      <td>quick reduct symptom</td>\n",
       "      <td>4</td>\n",
       "      <td>3</td>\n",
       "      <td>0.0000</td>\n",
       "    </tr>\n",
       "    <tr>\n",
       "      <th>3</th>\n",
       "      <td>9.0</td>\n",
       "      <td>35</td>\n",
       "      <td>contrav combin drug use alcohol smoke opioid c...</td>\n",
       "      <td>143</td>\n",
       "      <td>60</td>\n",
       "      <td>0.7086</td>\n",
       "    </tr>\n",
       "    <tr>\n",
       "      <th>4</th>\n",
       "      <td>9.0</td>\n",
       "      <td>4</td>\n",
       "      <td>birth control one cycl read review type simila...</td>\n",
       "      <td>149</td>\n",
       "      <td>53</td>\n",
       "      <td>0.9559</td>\n",
       "    </tr>\n",
       "  </tbody>\n",
       "</table>\n",
       "</div>"
      ],
      "text/plain": [
       "   rating  usefulCount                                       review_clean  \\\n",
       "0    10.0           22  tri antidepress year citalopram fluoxetin amit...   \n",
       "1     8.0           17  son crohn diseas done well asacol no complaint...   \n",
       "2     9.0            3                               quick reduct symptom   \n",
       "3     9.0           35  contrav combin drug use alcohol smoke opioid c...   \n",
       "4     9.0            4  birth control one cycl read review type simila...   \n",
       "\n",
       "   review_len  count_unique_word  compound  \n",
       "0          68                 34   -0.4596  \n",
       "1          51                 25    0.0736  \n",
       "2           4                  3    0.0000  \n",
       "3         143                 60    0.7086  \n",
       "4         149                 53    0.9559  "
      ]
     },
     "execution_count": 252,
     "metadata": {},
     "output_type": "execute_result"
    }
   ],
   "source": [
    "data_t.head()"
   ]
  },
  {
   "cell_type": "code",
   "execution_count": 253,
   "metadata": {},
   "outputs": [],
   "source": [
    "X = data_t.drop(columns=['usefulCount'])\n",
    "y = data_t['usefulCount']"
   ]
  },
  {
   "cell_type": "code",
   "execution_count": 254,
   "metadata": {},
   "outputs": [],
   "source": [
    "X_tfidf = tfidf.transform(X['review_clean'])"
   ]
  },
  {
   "cell_type": "code",
   "execution_count": 259,
   "metadata": {},
   "outputs": [],
   "source": [
    "X_test_stacked = hstack([X_tfidf, coo_matrix(X[['rating','review_len','count_unique_word','compound']])])\n",
    "y_test = load_model.predict(X_test_stacked)"
   ]
  },
  {
   "cell_type": "code",
   "execution_count": 260,
   "metadata": {},
   "outputs": [
    {
     "data": {
      "text/plain": [
       "29.225034275337425"
      ]
     },
     "execution_count": 260,
     "metadata": {},
     "output_type": "execute_result"
    }
   ],
   "source": [
    "rmse = np.sqrt(mean_squared_error(y, y_test))\n",
    "rmse"
   ]
  },
  {
   "cell_type": "code",
   "execution_count": null,
   "metadata": {},
   "outputs": [],
   "source": []
  },
  {
   "cell_type": "code",
   "execution_count": null,
   "metadata": {},
   "outputs": [],
   "source": []
  },
  {
   "cell_type": "code",
   "execution_count": null,
   "metadata": {},
   "outputs": [],
   "source": []
  }
 ],
 "metadata": {
  "kernelspec": {
   "display_name": "conda_python3",
   "language": "python",
   "name": "conda_python3"
  },
  "language_info": {
   "codemirror_mode": {
    "name": "ipython",
    "version": 3
   },
   "file_extension": ".py",
   "mimetype": "text/x-python",
   "name": "python",
   "nbconvert_exporter": "python",
   "pygments_lexer": "ipython3",
   "version": "3.6.7"
  }
 },
 "nbformat": 4,
 "nbformat_minor": 4
}
